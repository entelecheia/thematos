{
 "cells": [
  {
   "attachments": {},
   "cell_type": "markdown",
   "metadata": {},
   "source": [
    "## Initialize Project\n",
    "\n",
    "We'll initialize the project using the `HyFI.initialize` function. The function takes the following parameters:\n",
    "\n",
    "-   `project_name`: Name of the project to use.\n",
    "-   `project_description`: Description of the project that will be used.\n",
    "-   `project_root`: Root directory of the project.\n",
    "-   `project_workspace_name`: Name of the project's workspace directory.\n",
    "-   `global_hyfi_root`: Root directory of the global hyfi.\n",
    "-   `global_workspace_name`: Name of the global hierachical workspace directory.\n",
    "-   `num_workers`: Number of workers to run.\n",
    "-   `logging_level`: Log level for the log.\n",
    "-   `autotime`: Whether to automatically set time and / or keep track of run times.\n",
    "-   `retina`: Whether to use retina or not.\n",
    "-   `verbose`: Enables or disables logging\n",
    "\n",
    "We'll check if we're running in Google Colab, and if so, we'll mount Google Drive.\n"
   ]
  },
  {
   "cell_type": "code",
   "execution_count": null,
   "metadata": {},
   "outputs": [],
   "source": [
    "from thematos import HyFI\n",
    "\n",
    "\n",
    "if HyFI.is_colab():\n",
    "    HyFI.mount_google_drive()\n",
    "\n",
    "project_dir = HyFI.Env().DOTENV_DIR\n",
    "\n",
    "h = HyFI.initialize(\n",
    "    project_name=\"thematos\",\n",
    "    project_root=project_dir,\n",
    "    logging_level=\"INFO\",\n",
    "    verbose=True,\n",
    ")\n",
    "\n",
    "print(\"project_dir:\", h.project.root_dir)\n",
    "print(\"project_workspace_dir:\", h.project.workspace_dir)"
   ]
  },
  {
   "cell_type": "code",
   "execution_count": null,
   "metadata": {},
   "outputs": [],
   "source": [
    "from thematos.models import WordPrior\n",
    "\n",
    "data_file = h.project.root_dir / \"workspace/datasets/word_prior.yaml\"\n",
    "\n",
    "\n",
    "w = WordPrior(data_file=str(data_file), verbose=True)"
   ]
  },
  {
   "cell_type": "code",
   "execution_count": null,
   "metadata": {},
   "outputs": [],
   "source": [
    "w.priors"
   ]
  },
  {
   "cell_type": "code",
   "execution_count": null,
   "metadata": {},
   "outputs": [],
   "source": [
    "w.add(1, \"rates\")\n",
    "w.priors"
   ]
  },
  {
   "cell_type": "code",
   "execution_count": null,
   "metadata": {},
   "outputs": [],
   "source": [
    "w.save()"
   ]
  },
  {
   "cell_type": "code",
   "execution_count": null,
   "metadata": {},
   "outputs": [],
   "source": []
  }
 ],
 "metadata": {
  "colab": {
   "name": "corpus.ipynb",
   "provenance": []
  },
  "interpreter": {
   "hash": "f869af7787e6a1c49e09e367fc6e1b81d93d1c6583b43249c80edc047bd13cb2"
  },
  "kernelspec": {
   "display_name": "Python 3",
   "language": "python",
   "name": "python3"
  },
  "language_info": {
   "codemirror_mode": {
    "name": "ipython",
    "version": 3
   },
   "file_extension": ".py",
   "mimetype": "text/x-python",
   "name": "python",
   "nbconvert_exporter": "python",
   "pygments_lexer": "ipython3",
   "version": "3.9.5"
  },
  "widgets": {
   "application/vnd.jupyter.widget-state+json": {
    "state": {},
    "version_major": 2,
    "version_minor": 0
   }
  }
 },
 "nbformat": 4,
 "nbformat_minor": 1
}
