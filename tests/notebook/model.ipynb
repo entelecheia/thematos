{
 "cells": [
  {
   "attachments": {},
   "cell_type": "markdown",
   "metadata": {},
   "source": [
    "## Initialize Project\n"
   ]
  },
  {
   "cell_type": "code",
   "execution_count": 1,
   "metadata": {},
   "outputs": [
    {
     "name": "stderr",
     "output_type": "stream",
     "text": [
      "/home/yjlee/.venvs/thematos/lib/python3.8/site-packages/tqdm/auto.py:21: TqdmWarning: IProgress not found. Please update jupyter and ipywidgets. See https://ipywidgets.readthedocs.io/en/stable/user_install.html\n",
      "  from .autonotebook import tqdm as notebook_tqdm\n",
      "INFO:hyfi.utils.notebooks:Google Colab not detected.\n",
      "INFO:hyfi.utils.notebooks:Extension autotime not found. Install it first.\n",
      "INFO:hyfi.joblib.joblib:initialized batcher with <hyfi.joblib.batch.batcher.Batcher object at 0x7f070b0845b0>\n",
      "INFO:hyfi.main.config:HyFi project [thematos] initialized\n"
     ]
    },
    {
     "name": "stdout",
     "output_type": "stream",
     "text": [
      "project_dir: /raid/cis/yjlee/workspace/projects/thematos\n",
      "project_workspace_dir: /raid/cis/yjlee/workspace/projects/thematos/workspace\n"
     ]
    }
   ],
   "source": [
    "from thematos import HyFI\n",
    "\n",
    "if HyFI.is_colab():\n",
    "    HyFI.mount_google_drive()\n",
    "\n",
    "project_dir = HyFI.DotEnvConfig().DOTENV_DIR\n",
    "\n",
    "h = HyFI.initialize(\n",
    "    project_name=\"thematos\",\n",
    "    project_root=project_dir,\n",
    "    logging_level=\"INFO\",\n",
    "    verbose=True,\n",
    ")\n",
    "\n",
    "print(\"project_dir:\", h.project.root_dir)\n",
    "print(\"project_workspace_dir:\", h.project.workspace_dir)\n"
   ]
  },
  {
   "cell_type": "code",
   "execution_count": 2,
   "metadata": {},
   "outputs": [
    {
     "name": "stderr",
     "output_type": "stream",
     "text": [
      "INFO:hyfi.task.batch:Initalized batch: corpus(2) in /raid/cis/yjlee/workspace/projects/thematos/workspace/topic/corpus\n"
     ]
    }
   ],
   "source": [
    "from thematos.datasets import Corpus\n",
    "\n",
    "data_file = (\n",
    "    h.project.root_dir / \"workspace/datasets/processed/khmer_tokenized/train.parquet\"\n",
    ")\n",
    "data_load = {\"data_file\": str(data_file)}\n",
    "c = Corpus(data_load=data_load, id_col=\"id\", text_col=\"text\")"
   ]
  },
  {
   "cell_type": "code",
   "execution_count": 3,
   "metadata": {},
   "outputs": [
    {
     "name": "stderr",
     "output_type": "stream",
     "text": [
      "INFO:hyfi.task.batch:Initalized batch: corpus(2) in /raid/cis/yjlee/workspace/projects/thematos/workspace/topic/corpus\n"
     ]
    },
    {
     "data": {
      "text/plain": [
       "{0: ['interest', 'rates', 'central', 'bank', 'nbc']}"
      ]
     },
     "execution_count": 3,
     "metadata": {},
     "output_type": "execute_result"
    }
   ],
   "source": [
    "from thematos.models import WordPrior\n",
    "\n",
    "data_file = h.project.root_dir / \"workspace/datasets/word_prior.yaml\"\n",
    "\n",
    "\n",
    "w = WordPrior(data_file=str(data_file), verbose=True)\n",
    "w.priors\n"
   ]
  },
  {
   "cell_type": "code",
   "execution_count": 10,
   "metadata": {},
   "outputs": [
    {
     "name": "stderr",
     "output_type": "stream",
     "text": [
      "INFO:hyfi.batch.batch:Setting seed to 4206844027\n",
      "INFO:hyfi.batch.batch:Init batch - Batch name: model, Batch num: 0\n",
      "INFO:hyfi.batch.batch:Init batch - Batch name: model, Batch num: 11\n",
      "INFO:hyfi.task.batch:Initalized batch: model(11) in /raid/cis/yjlee/workspace/projects/thematos/workspace/topic/model\n"
     ]
    }
   ],
   "source": [
    "from thematos.models import LdaModel\n",
    "\n",
    "lda = LdaModel(corpus=c, wordprior=w, verbose=True)\n",
    "lda.model_args.k = 10\n",
    "lda.train_args.iterations = 50"
   ]
  },
  {
   "cell_type": "code",
   "execution_count": 12,
   "metadata": {},
   "outputs": [
    {
     "name": "stderr",
     "output_type": "stream",
     "text": [
      "INFO:hyfi.task.batch:> Loading config for batch_name: model batch_num: 10\n",
      "INFO:hyfi.task.batch:Loading config from /raid/cis/yjlee/workspace/projects/thematos/workspace/topic/model/configs/model(10)_config.yaml\n",
      "INFO:hyfi.task.batch:Merging config with the loaded config\n",
      "INFO:hyfi.task.batch:Updating config with config_kwargs: {}\n",
      "INFO:hyfi.task.batch:Initalized batch: corpus(2) in /raid/cis/yjlee/workspace/projects/thematos/workspace/topic/corpus\n",
      "INFO:hyfi.task.batch:Initalized batch: model(10) in /raid/cis/yjlee/workspace/projects/thematos/workspace/topic/model\n",
      "INFO:hyfi.utils.iolibs:Processing [1] files from ['/raid/cis/yjlee/workspace/projects/thematos/workspace/topic/model/outputs/LDA_model(10)_k(10)-ll_per_word.csv']\n",
      "INFO:hyfi.utils.datasets.load:Loading data from /raid/cis/yjlee/workspace/projects/thematos/workspace/topic/model/outputs/LDA_model(10)_k(10)-ll_per_word.csv\n",
      "INFO:hyfi.utils.datasets.load: >> elapsed time to load data: 0:00:00.009628\n",
      "INFO:hyfi.utils.iolibs:Processing [1] files from ['/raid/cis/yjlee/workspace/projects/thematos/workspace/topic/model/outputs/LDA_model(10)_k(10)-doc_topic_dists.parquet']\n",
      "INFO:hyfi.utils.datasets.load:Loading data from /raid/cis/yjlee/workspace/projects/thematos/workspace/topic/model/outputs/LDA_model(10)_k(10)-doc_topic_dists.parquet\n",
      "INFO:hyfi.utils.datasets.load: >> elapsed time to load data: 0:00:00.012174\n"
     ]
    }
   ],
   "source": [
    "# lda.train()\n",
    "lda.load(batch_num=10)\n"
   ]
  },
  {
   "cell_type": "code",
   "execution_count": 13,
   "metadata": {},
   "outputs": [
    {
     "data": {
      "text/plain": [
       "61001"
      ]
     },
     "execution_count": 13,
     "metadata": {},
     "output_type": "execute_result"
    }
   ],
   "source": [
    "len(lda.topic_term_dists_df.columns)"
   ]
  },
  {
   "cell_type": "code",
   "execution_count": 14,
   "metadata": {},
   "outputs": [
    {
     "data": {
      "text/html": [
       "<div>\n",
       "<style scoped>\n",
       "    .dataframe tbody tr th:only-of-type {\n",
       "        vertical-align: middle;\n",
       "    }\n",
       "\n",
       "    .dataframe tbody tr th {\n",
       "        vertical-align: top;\n",
       "    }\n",
       "\n",
       "    .dataframe thead th {\n",
       "        text-align: right;\n",
       "    }\n",
       "</style>\n",
       "<table border=\"1\" class=\"dataframe\">\n",
       "  <thead>\n",
       "    <tr style=\"text-align: right;\">\n",
       "      <th></th>\n",
       "      <th>id</th>\n",
       "      <th>topic0</th>\n",
       "      <th>topic1</th>\n",
       "      <th>topic2</th>\n",
       "      <th>topic3</th>\n",
       "      <th>topic4</th>\n",
       "      <th>topic5</th>\n",
       "      <th>topic6</th>\n",
       "      <th>topic7</th>\n",
       "      <th>topic8</th>\n",
       "      <th>topic9</th>\n",
       "    </tr>\n",
       "  </thead>\n",
       "  <tbody>\n",
       "    <tr>\n",
       "      <th>0</th>\n",
       "      <td>501330943</td>\n",
       "      <td>0.031250</td>\n",
       "      <td>0.000128</td>\n",
       "      <td>0.064672</td>\n",
       "      <td>0.000136</td>\n",
       "      <td>0.037765</td>\n",
       "      <td>0.000073</td>\n",
       "      <td>0.001145</td>\n",
       "      <td>0.000134</td>\n",
       "      <td>0.014601</td>\n",
       "      <td>0.850096</td>\n",
       "    </tr>\n",
       "    <tr>\n",
       "      <th>1</th>\n",
       "      <td>501326169</td>\n",
       "      <td>0.215158</td>\n",
       "      <td>0.000866</td>\n",
       "      <td>0.001298</td>\n",
       "      <td>0.000922</td>\n",
       "      <td>0.000879</td>\n",
       "      <td>0.000493</td>\n",
       "      <td>0.001000</td>\n",
       "      <td>0.000911</td>\n",
       "      <td>0.001115</td>\n",
       "      <td>0.777357</td>\n",
       "    </tr>\n",
       "    <tr>\n",
       "      <th>2</th>\n",
       "      <td>501325554</td>\n",
       "      <td>0.025356</td>\n",
       "      <td>0.000128</td>\n",
       "      <td>0.078041</td>\n",
       "      <td>0.032611</td>\n",
       "      <td>0.008448</td>\n",
       "      <td>0.000073</td>\n",
       "      <td>0.017288</td>\n",
       "      <td>0.000134</td>\n",
       "      <td>0.045093</td>\n",
       "      <td>0.792828</td>\n",
       "    </tr>\n",
       "    <tr>\n",
       "      <th>3</th>\n",
       "      <td>501322478</td>\n",
       "      <td>0.000114</td>\n",
       "      <td>0.000119</td>\n",
       "      <td>0.043899</td>\n",
       "      <td>0.019885</td>\n",
       "      <td>0.000120</td>\n",
       "      <td>0.000068</td>\n",
       "      <td>0.000137</td>\n",
       "      <td>0.000125</td>\n",
       "      <td>0.027738</td>\n",
       "      <td>0.907795</td>\n",
       "    </tr>\n",
       "    <tr>\n",
       "      <th>4</th>\n",
       "      <td>501321914</td>\n",
       "      <td>0.024748</td>\n",
       "      <td>0.000106</td>\n",
       "      <td>0.713343</td>\n",
       "      <td>0.107948</td>\n",
       "      <td>0.066905</td>\n",
       "      <td>0.000061</td>\n",
       "      <td>0.000123</td>\n",
       "      <td>0.043344</td>\n",
       "      <td>0.002298</td>\n",
       "      <td>0.041124</td>\n",
       "    </tr>\n",
       "  </tbody>\n",
       "</table>\n",
       "</div>"
      ],
      "text/plain": [
       "          id    topic0    topic1    topic2    topic3    topic4    topic5  \\\n",
       "0  501330943  0.031250  0.000128  0.064672  0.000136  0.037765  0.000073   \n",
       "1  501326169  0.215158  0.000866  0.001298  0.000922  0.000879  0.000493   \n",
       "2  501325554  0.025356  0.000128  0.078041  0.032611  0.008448  0.000073   \n",
       "3  501322478  0.000114  0.000119  0.043899  0.019885  0.000120  0.000068   \n",
       "4  501321914  0.024748  0.000106  0.713343  0.107948  0.066905  0.000061   \n",
       "\n",
       "     topic6    topic7    topic8    topic9  \n",
       "0  0.001145  0.000134  0.014601  0.850096  \n",
       "1  0.001000  0.000911  0.001115  0.777357  \n",
       "2  0.017288  0.000134  0.045093  0.792828  \n",
       "3  0.000137  0.000125  0.027738  0.907795  \n",
       "4  0.000123  0.043344  0.002298  0.041124  "
      ]
     },
     "execution_count": 14,
     "metadata": {},
     "output_type": "execute_result"
    }
   ],
   "source": [
    "lda.doc_topic_dists_df.head()"
   ]
  },
  {
   "cell_type": "code",
   "execution_count": 16,
   "metadata": {},
   "outputs": [],
   "source": [
    "topic_freq = dict(lda.model.get_topic_words(1, top_n=100))"
   ]
  },
  {
   "cell_type": "code",
   "execution_count": null,
   "metadata": {},
   "outputs": [],
   "source": []
  }
 ],
 "metadata": {
  "colab": {
   "name": "corpus.ipynb",
   "provenance": []
  },
  "interpreter": {
   "hash": "f869af7787e6a1c49e09e367fc6e1b81d93d1c6583b43249c80edc047bd13cb2"
  },
  "kernelspec": {
   "display_name": "Python 3",
   "language": "python",
   "name": "python3"
  },
  "language_info": {
   "codemirror_mode": {
    "name": "ipython",
    "version": 3
   },
   "file_extension": ".py",
   "mimetype": "text/x-python",
   "name": "python",
   "nbconvert_exporter": "python",
   "pygments_lexer": "ipython3",
   "version": "3.8.10"
  },
  "widgets": {
   "application/vnd.jupyter.widget-state+json": {
    "state": {},
    "version_major": 2,
    "version_minor": 0
   }
  }
 },
 "nbformat": 4,
 "nbformat_minor": 1
}
