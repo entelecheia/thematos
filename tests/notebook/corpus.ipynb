{
 "cells": [
  {
   "attachments": {},
   "cell_type": "markdown",
   "metadata": {},
   "source": [
    "## Initialize Project\n",
    "\n",
    "We'll initialize the project using the `HyFI.initialize` function. The function takes the following parameters:\n",
    "\n",
    "- `project_name`: Name of the project to use.\n",
    "- `project_description`: Description of the project that will be used.\n",
    "- `project_root`: Root directory of the project.\n",
    "- `project_workspace_name`: Name of the project's workspace directory.\n",
    "- `global_hyfi_root`: Root directory of the global hyfi.\n",
    "- `global_workspace_name`: Name of the global hierachical workspace directory.\n",
    "- `num_workers`: Number of workers to run.\n",
    "- `logging_level`: Log level for the log.\n",
    "- `autotime`: Whether to automatically set time and / or keep track of run times.\n",
    "- `retina`: Whether to use retina or not.\n",
    "- `verbose`: Enables or disables logging\n",
    "\n",
    "We'll check if we're running in Google Colab, and if so, we'll mount Google Drive.\n"
   ]
  },
  {
   "cell_type": "code",
   "execution_count": 1,
   "metadata": {},
   "outputs": [
    {
     "name": "stderr",
     "output_type": "stream",
     "text": [
      "/home/yjlee/.venvs/thematos/lib/python3.8/site-packages/tqdm/auto.py:21: TqdmWarning: IProgress not found. Please update jupyter and ipywidgets. See https://ipywidgets.readthedocs.io/en/stable/user_install.html\n",
      "  from .autonotebook import tqdm as notebook_tqdm\n",
      "INFO:hyfi.utils.notebooks:Google Colab not detected.\n",
      "INFO:hyfi.utils.notebooks:Extension autotime not found. Install it first.\n",
      "DEBUG:matplotlib.pyplot:Loaded backend module://matplotlib_inline.backend_inline version unknown.\n",
      "DEBUG:hydra.core.utils:Setting JobRuntime:name=app\n",
      "DEBUG:hydra.core.utils:Setting JobRuntime:name=app\n",
      "DEBUG:hydra.core.utils:Setting JobRuntime:name=app\n",
      "DEBUG:hydra.core.utils:Setting JobRuntime:name=app\n",
      "DEBUG:hydra.core.utils:Setting JobRuntime:name=app\n",
      "DEBUG:hydra.core.utils:Setting JobRuntime:name=app\n",
      "DEBUG:hydra.core.utils:Setting JobRuntime:name=app\n",
      "DEBUG:hydra.core.utils:Setting JobRuntime:name=app\n",
      "DEBUG:hydra.core.utils:Setting JobRuntime:name=app\n",
      "INFO:hyfi.joblib.joblib:initialized batcher with <hyfi.joblib.batch.batcher.Batcher object at 0x7f84a89355b0>\n",
      "INFO:hyfi.main.config:HyFi project [thematos] initialized\n"
     ]
    },
    {
     "name": "stdout",
     "output_type": "stream",
     "text": [
      "project_dir: /raid/cis/yjlee/workspace/projects/thematos\n",
      "project_workspace_dir: /raid/cis/yjlee/workspace/projects/thematos/workspace\n"
     ]
    }
   ],
   "source": [
    "from thematos import HyFI\n",
    "\n",
    "\n",
    "if HyFI.is_colab():\n",
    "    HyFI.mount_google_drive()\n",
    "\n",
    "project_dir = HyFI.DotEnvConfig().DOTENV_DIR\n",
    "\n",
    "h = HyFI.initialize(\n",
    "    project_name=\"thematos\",\n",
    "    project_root=project_dir,\n",
    "    logging_level=\"DEBUG\",\n",
    "    verbose=True,\n",
    ")\n",
    "\n",
    "print(\"project_dir:\", h.project.root_dir)\n",
    "print(\"project_workspace_dir:\", h.project.workspace_dir)"
   ]
  },
  {
   "cell_type": "code",
   "execution_count": 2,
   "metadata": {},
   "outputs": [
    {
     "name": "stderr",
     "output_type": "stream",
     "text": [
      "DEBUG:hydra.core.utils:Setting JobRuntime:name=app\n",
      "DEBUG:hydra.core.utils:Setting JobRuntime:name=app\n"
     ]
    },
    {
     "name": "stderr",
     "output_type": "stream",
     "text": [
      "DEBUG:hydra.core.utils:Setting JobRuntime:name=app\n",
      "DEBUG:hydra.core.utils:Setting JobRuntime:name=app\n",
      "DEBUG:hydra.core.utils:Setting JobRuntime:name=app\n",
      "DEBUG:hydra.core.utils:Setting JobRuntime:name=app\n",
      "DEBUG:hydra.core.utils:Setting JobRuntime:name=app\n",
      "DEBUG:hydra.core.utils:Setting JobRuntime:name=app\n",
      "DEBUG:hydra.core.utils:Setting JobRuntime:name=app\n",
      "DEBUG:hydra.core.utils:Setting JobRuntime:name=app\n",
      "DEBUG:hydra.core.utils:Setting JobRuntime:name=app\n",
      "DEBUG:hydra.core.utils:Setting JobRuntime:name=app\n",
      "DEBUG:hydra.core.utils:Setting JobRuntime:name=app\n",
      "DEBUG:hydra.core.utils:Setting JobRuntime:name=app\n",
      "INFO:hyfi.task.batch:Initalized batch: corpus(0) in workspace/outputs/corpus\n"
     ]
    }
   ],
   "source": [
    "from thematos.datasets import Corpus\n",
    "\n",
    "data_file = (\n",
    "    h.project.root_dir / \"workspace/datasets/processed/khmer_tokenized/train.parquet\"\n",
    ")\n",
    "data_load = {\"data_file\": data_file}\n",
    "c = Corpus(data_load=data_load, id_col=\"id\", text_col=\"text\")\n"
   ]
  },
  {
   "cell_type": "code",
   "execution_count": 3,
   "metadata": {},
   "outputs": [
    {
     "name": "stderr",
     "output_type": "stream",
     "text": [
      "INFO:hyfi.utils.datasets.save:Saving dataframe to /raid/cis/yjlee/workspace/projects/thematos/tests/notebook/workspace/outputs/corpus/corpus_doc_ids.csv\n"
     ]
    }
   ],
   "source": [
    "c.load()\n"
   ]
  },
  {
   "cell_type": "code",
   "execution_count": null,
   "metadata": {},
   "outputs": [],
   "source": []
  }
 ],
 "metadata": {
  "colab": {
   "name": "corpus.ipynb",
   "provenance": []
  },
  "interpreter": {
   "hash": "f869af7787e6a1c49e09e367fc6e1b81d93d1c6583b43249c80edc047bd13cb2"
  },
  "kernelspec": {
   "display_name": "Python 3",
   "language": "python",
   "name": "python3"
  },
  "language_info": {
   "codemirror_mode": {
    "name": "ipython",
    "version": 3
   },
   "file_extension": ".py",
   "mimetype": "text/x-python",
   "name": "python",
   "nbconvert_exporter": "python",
   "pygments_lexer": "ipython3",
   "version": "3.8.10"
  },
  "widgets": {
   "application/vnd.jupyter.widget-state+json": {
    "state": {},
    "version_major": 2,
    "version_minor": 0
   }
  }
 },
 "nbformat": 4,
 "nbformat_minor": 1
}
