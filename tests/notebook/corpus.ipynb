{
 "cells": [
  {
   "attachments": {},
   "cell_type": "markdown",
   "metadata": {},
   "source": [
    "## Initialize Project\n"
   ]
  },
  {
   "cell_type": "code",
   "execution_count": 1,
   "metadata": {},
   "outputs": [
    {
     "name": "stderr",
     "output_type": "stream",
     "text": [
      "/home/yjlee/.venvs/thematos/lib/python3.8/site-packages/tqdm/auto.py:21: TqdmWarning: IProgress not found. Please update jupyter and ipywidgets. See https://ipywidgets.readthedocs.io/en/stable/user_install.html\n",
      "  from .autonotebook import tqdm as notebook_tqdm\n",
      "INFO:hyfi.utils.notebooks:Google Colab not detected.\n",
      "INFO:hyfi.utils.notebooks:Extension autotime not found. Install it first.\n",
      "INFO:hyfi.joblib.joblib:initialized batcher with <hyfi.joblib.batch.batcher.Batcher object at 0x7f4a54125e20>\n",
      "INFO:hyfi.main.config:HyFi project [thematos] initialized\n"
     ]
    },
    {
     "name": "stdout",
     "output_type": "stream",
     "text": [
      "project_dir: /raid/cis/yjlee/workspace/projects/thematos\n",
      "project_workspace_dir: /raid/cis/yjlee/workspace/projects/thematos/workspace\n"
     ]
    }
   ],
   "source": [
    "from thematos import HyFI\n",
    "\n",
    "\n",
    "if HyFI.is_colab():\n",
    "    HyFI.mount_google_drive()\n",
    "\n",
    "project_dir = HyFI.DotEnvConfig().DOTENV_DIR\n",
    "\n",
    "h = HyFI.initialize(\n",
    "    project_name=\"thematos\",\n",
    "    project_root=project_dir,\n",
    "    logging_level=\"INFO\",\n",
    "    verbose=True,\n",
    ")\n",
    "\n",
    "print(\"project_dir:\", h.project.root_dir)\n",
    "print(\"project_workspace_dir:\", h.project.workspace_dir)"
   ]
  },
  {
   "cell_type": "code",
   "execution_count": 2,
   "metadata": {},
   "outputs": [
    {
     "name": "stderr",
     "output_type": "stream",
     "text": [
      "INFO:hyfi.batch.batch:Setting seed to 1219745492\n",
      "INFO:hyfi.batch.batch:Init batch - Batch name: corpus, Batch num: 0\n",
      "INFO:hyfi.batch.batch:Init batch - Batch name: corpus, Batch num: 6\n",
      "INFO:hyfi.task.batch:Initalized batch: corpus(6) in /raid/cis/yjlee/workspace/projects/thematos/workspace/topic/corpus\n"
     ]
    }
   ],
   "source": [
    "from thematos.datasets import Corpus\n",
    "\n",
    "data_file = (\n",
    "    h.project.root_dir / \"workspace/datasets/processed/khmer_tokenized/train.parquet\"\n",
    ")\n",
    "data_load = {\"data_file\": data_file}\n",
    "c = Corpus(data_load=data_load, id_col=\"id\", text_col=\"text\", verbose=True)"
   ]
  },
  {
   "cell_type": "code",
   "execution_count": 3,
   "metadata": {},
   "outputs": [
    {
     "name": "stderr",
     "output_type": "stream",
     "text": [
      "INFO:thematos.datasets.corpus:Loading corpus...\n",
      "INFO:thematos.datasets.corpus:Total 39713 documents are loaded.\n",
      "INFO:thematos.datasets.corpus:Extracting n-grams...\n",
      "INFO:thematos.datasets.corpus:Total 5000 n-grams are extracted.\n",
      "INFO:thematos.datasets.corpus:tomotopy.label.Candidate(words=[\"cashville\",\"kidz\"], name=\"\", score=1.000000)\n",
      "INFO:thematos.datasets.corpus:tomotopy.label.Candidate(words=[\"armida\",\"salsiah\"], name=\"\", score=1.000000)\n",
      "INFO:thematos.datasets.corpus:tomotopy.label.Candidate(words=[\"buenos\",\"aires\"], name=\"\", score=0.999195)\n",
      "INFO:thematos.datasets.corpus:tomotopy.label.Candidate(words=[\"‘omicron\",\"surge’\"], name=\"\", score=0.998123)\n",
      "INFO:thematos.datasets.corpus:tomotopy.label.Candidate(words=[\"ភុន\",\"ច័ន្ទឧសភា\"], name=\"\", score=0.997824)\n",
      "INFO:thematos.datasets.corpus:tomotopy.label.Candidate(words=[\"prei\",\"kuk\"], name=\"\", score=0.996804)\n",
      "INFO:thematos.datasets.corpus:tomotopy.label.Candidate(words=[\"reastr\",\"niyum\"], name=\"\", score=0.996630)\n",
      "INFO:thematos.datasets.corpus:tomotopy.label.Candidate(words=[\"bharatiya\",\"janata\"], name=\"\", score=0.996168)\n",
      "INFO:thematos.datasets.corpus:tomotopy.label.Candidate(words=[\"lese\",\"majeste\"], name=\"\", score=0.995401)\n",
      "INFO:thematos.datasets.corpus:tomotopy.label.Candidate(words=[\"kuala\",\"lumpur\"], name=\"\", score=0.994687)\n",
      "INFO:thematos.datasets.corpus:tomotopy.label.Candidate(words=[\"phnom\",\"penh\",\"water\",\"supply\",\"authority\"], name=\"\", score=0.592158)\n",
      "INFO:thematos.datasets.corpus:tomotopy.label.Candidate(words=[\"manu\",\"rajan\",\"ceo\",\"of\",\"wing\"], name=\"\", score=0.592151)\n",
      "INFO:thematos.datasets.corpus:tomotopy.label.Candidate(words=[\"com\",\"blog\"], name=\"\", score=0.592115)\n",
      "INFO:thematos.datasets.corpus:tomotopy.label.Candidate(words=[\"40th\",\"and\",\"41st\",\"asean\"], name=\"\", score=0.592072)\n",
      "INFO:thematos.datasets.corpus:tomotopy.label.Candidate(words=[\"completely\",\"reversed\",\"this\"], name=\"\", score=0.591920)\n",
      "INFO:thematos.datasets.corpus:tomotopy.label.Candidate(words=[\"retaliatory\",\"tariffs\"], name=\"\", score=0.591920)\n",
      "INFO:thematos.datasets.corpus:tomotopy.label.Candidate(words=[\"water\",\"supply\",\"authority\"], name=\"\", score=0.591894)\n",
      "INFO:thematos.datasets.corpus:tomotopy.label.Candidate(words=[\"soviet\",\"union’s\"], name=\"\", score=0.591888)\n",
      "INFO:thematos.datasets.corpus:tomotopy.label.Candidate(words=[\"vision\",\"institute\"], name=\"\", score=0.591882)\n",
      "INFO:thematos.datasets.corpus:tomotopy.label.Candidate(words=[\"tboung\",\"khmum\",\"provincial\"], name=\"\", score=0.591819)\n",
      "INFO:thematos.datasets.corpus:Concatenating n-grams...\n",
      "INFO:thematos.datasets.corpus:<tomotopy.Document with words=\"the national bank of cambodia nbc has asked banks and financial institutions to consider providing loans to consumers based on their behaviour data to increase financial inclusion while digital payments have developed very fast in the country the recommendation was made during the launch of the cambodian shared switch css event for common payment and withdrawals recently organised at the center for banking studies cbs in phnom penh presided over by deputy governor of nbc chea serey the event was also attended by about 200 national and international guests from the central bank and private banks and financial institutions including sok voeun chairman of cambodia microfinance association cma char sopheap payments committee chairman of the association of banks in cambodia abc and ivana tranchini visa’s country manager for cambodia “while the payment system is so important in the financial inclusion process we just don’t want to make payment easier but also want to make access to credit easier and more comfortable another potential we have looked at is the possibility of lending or providing credit based on the payment behaviours of clients i am not talking about a big amount but a small amount ” serey underlined “if you could understand the behaviours of your clients … someone who is a cautious spender and someone who has a habit of saving a lot should get benefits in terms of a lower interest rate from financial institutions i hope we will continue to push forward the usage of such data … to help them access financial services ” serey said serey told khmer times on the sidelines of the event that banks and financial institutions currently use necessary data such as collaterals identities and incomes of their clients to assess the possibility of lending them but data on consumers’ behaviours already exist but have not been used in the assessment and decision-making of loan release serey further pointed out that it is required that banks and financial institutions must get consent from their clients in using this type of behaviour data to protect the client’s privacy “if a client wants to get loans and allows banks to use his or her information in credit assessment it would be fine as it is a trade-off ” she said “for example some people spend over their income financial institutions can use such data to consider and decide not to lend to people who have such behaviour as they might believe that they will be unable to make repayments to the financial institutions that are lenders however people who have a habit of spending much less than income may get credit easier ” serey added banks and financial institutions’ officers will also need to explain clearly the advantages and disadvantages to their customers in addition to requesting for consent data usage as financial service consumers may lack the knowledge to understand the consequences she said adding “then officers can ask them to make a decision on their permission” serey also said the number of payments made via the electronic system in cambodia reached nearly 1 000 percent of the country’s gross domestic product gdp in 2022 and it has risen to approximately 300 billion—nearly 1 000 percent of the gdp at about 30 billion last year while the electronic payment volume has risen between 200 and 300 percent annually in both transactions and amount of payments voeun who is also the ceo of deposit-taking microfinance institution lolc cambodia plc asked nbc to work with all participating institutions to set the maximum limit per day and the amount of withdrawable cash per transaction from each atm\">\n",
      "INFO:thematos.datasets.corpus:<tomotopy.Document with words=\"national harbor march 9 2014 afp – sarah palin offered unsolicited advice saturday to president barack obama on containing russian aggression saying “the only thing that stops a bad guy with a nuke is a good guy with a nuke ” the republican former vice presidential candidate used a predominantly crass tone throughout her appearance at the conservative political action conference but she hit home by attacking what she called a feckless obama foreign policy that she said has helped embolden russian president vladimir putin failing to show peace through strength has allowed some “very very very bad dudes to gain ground ” said palin who remains a darling of the far-right obama “would gut our arsenal while he allows others — enemies — to enrich theirs she said “mr president the only thing that stops a bad guy with a nuke is a good guy with a nuke ” the comments follow russia’s invasion of neighboring ukraine last month action which sent tensions soaring and us-russia relations to perhaps their lowest point since the end of the cold war the remark may have sounded flippant but it was red meat to conservatives mindful of similar language used by the head of the national rifle association america’s largest gun lobby in the aftermath of a december 2012 mass shooting in connecticut nra executive vice president wayne lapierre poured fuel on the gun control debate by saying that “the only thing that stops a bad guy with a gun is a good guy with a gun ”\">\n",
      "INFO:thematos.datasets.corpus:<tomotopy.Document with words=\"the national bank of cambodia nbc has asked banks and financial_institutions to consider providing loans to consumers based on their behaviour data to increase financial_inclusion while digital payments have developed very fast in the country the recommendation was made during the launch of the cambodian_shared_switch_css event for common payment and withdrawals recently organised at the center for banking studies cbs in_phnom_penh presided over by deputy_governor of nbc chea_serey the event was also attended by about 200 national and international guests from the central_bank and private banks and financial_institutions including sok_voeun chairman of cambodia_microfinance_association_cma char sopheap payments committee chairman of the association of banks in cambodia abc and ivana tranchini visa’s country manager for cambodia “while the payment system is so important in the financial_inclusion process we just don’t want to make payment easier but also want to make access to credit easier and more comfortable another potential we have looked at is the possibility of lending or providing credit based on the payment behaviours of clients i_am not talking about a big amount but a small amount ” serey underlined “if you could understand the behaviours of your clients … someone who is a cautious spender and someone who has a habit of saving a lot should get benefits in terms of a lower interest_rate from financial_institutions i hope we will continue to push forward the usage of such data … to help them access financial services ” serey said serey told_khmer times on the sidelines of the event that banks and financial_institutions currently use necessary data such_as collaterals identities and incomes of their clients to assess the possibility of lending them but data on consumers’ behaviours already exist but have not been used in the assessment and decision-making of loan release serey further pointed_out that it is required that banks and financial_institutions must get consent from their clients in using this type of behaviour data to protect the client’s privacy “if a client wants to get loans and allows banks to use his or her information in credit assessment it would be fine as it is a trade-off ” she said “for example some people spend over their income financial_institutions can use such data to consider and decide not to lend to people who have such behaviour as they might believe that they will be unable to make repayments to the financial_institutions that are lenders however people who have a habit of spending much less than income may get credit easier ” serey added banks and financial institutions’ officers will also need to explain clearly the advantages and disadvantages to their customers in addition to requesting for consent data usage as financial service consumers may lack the knowledge to understand the consequences she said adding “then officers can ask them to make a decision on their permission” serey also said the number of payments made via the electronic system in cambodia reached nearly 1 000 percent of the country’s gross_domestic product gdp in 2022 and it has risen to approximately 300 billion—nearly 1 000 percent of the gdp at about 30 billion last_year while the electronic payment volume has risen between 200 and 300 percent annually in both transactions and amount of payments voeun who is also the ceo of deposit-taking microfinance_institution lolc cambodia plc asked nbc to work with all participating institutions to set the maximum limit per day and the amount of withdrawable cash per transaction from each atm\">\n",
      "INFO:thematos.datasets.corpus:<tomotopy.Document with words=\"national harbor march 9 2014 afp_– sarah palin offered unsolicited advice saturday to president_barack obama on containing russian aggression saying “the only thing that stops a bad guy with a nuke is a good guy with a nuke ” the republican former vice presidential candidate used a predominantly crass tone throughout her appearance at the conservative political action conference but she hit home by attacking what she called a feckless obama foreign policy that she said has helped embolden russian_president_vladimir putin failing to show peace through strength has allowed some “very very very bad dudes to gain ground ” said palin who remains a darling of the far-right obama “would gut our arsenal while he allows others — enemies — to enrich theirs she said “mr president the only thing that stops a bad guy with a nuke is a good guy with a nuke ” the comments follow russia’s_invasion of neighboring ukraine last_month action which sent tensions soaring and us-russia relations to perhaps their lowest point since the end of the cold_war the remark may have sounded flippant but it was red meat to conservatives mindful of similar language used by the head of the national rifle association america’s largest gun lobby in the aftermath of a december 2012 mass shooting in connecticut nra executive vice_president wayne lapierre poured fuel on the gun control debate by saying that “the only thing that stops a bad guy with a gun is a good guy with a gun ”\">\n",
      "INFO:thematos.datasets.corpus:Total 39713 documents are n-gramized.\n",
      "INFO:hyfi.utils.datasets.load:Loading data from /raid/cis/yjlee/workspace/projects/thematos/workspace/topic/corpus/corpus_doc_ids.parquet\n",
      "INFO:hyfi.utils.datasets.load: >> elapsed time to load data: 0:00:00.013378\n",
      "INFO:hyfi.utils.datasets.save:Saving dataframe to /raid/cis/yjlee/workspace/projects/thematos/workspace/topic/corpus/corpus_doc_ids.parquet\n",
      "INFO:hyfi.utils.datasets.save: >> elapsed time to save data: 0:00:00.031660\n",
      "INFO:hyfi.composer.config:Saving config to /raid/cis/yjlee/workspace/projects/thematos/workspace/topic/corpus/configs/corpus(6)_config.json\n",
      "INFO:hyfi.composer.config:Saving config to /raid/cis/yjlee/workspace/projects/thematos/workspace/topic/corpus/configs/corpus(6)_config.yaml\n"
     ]
    }
   ],
   "source": [
    "c.load()\n"
   ]
  },
  {
   "cell_type": "code",
   "execution_count": null,
   "metadata": {},
   "outputs": [],
   "source": []
  }
 ],
 "metadata": {
  "colab": {
   "name": "corpus.ipynb",
   "provenance": []
  },
  "interpreter": {
   "hash": "f869af7787e6a1c49e09e367fc6e1b81d93d1c6583b43249c80edc047bd13cb2"
  },
  "kernelspec": {
   "display_name": "Python 3",
   "language": "python",
   "name": "python3"
  },
  "language_info": {
   "codemirror_mode": {
    "name": "ipython",
    "version": 3
   },
   "file_extension": ".py",
   "mimetype": "text/x-python",
   "name": "python",
   "nbconvert_exporter": "python",
   "pygments_lexer": "ipython3",
   "version": "3.8.10"
  },
  "widgets": {
   "application/vnd.jupyter.widget-state+json": {
    "state": {},
    "version_major": 2,
    "version_minor": 0
   }
  }
 },
 "nbformat": 4,
 "nbformat_minor": 1
}
