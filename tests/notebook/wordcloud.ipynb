{
 "cells": [
  {
   "attachments": {},
   "cell_type": "markdown",
   "metadata": {},
   "source": [
    "## Initialize Project\n"
   ]
  },
  {
   "cell_type": "code",
   "execution_count": 1,
   "metadata": {},
   "outputs": [
    {
     "name": "stderr",
     "output_type": "stream",
     "text": [
      "/home/yjlee/.venvs/thematos/lib/python3.8/site-packages/tqdm/auto.py:21: TqdmWarning: IProgress not found. Please update jupyter and ipywidgets. See https://ipywidgets.readthedocs.io/en/stable/user_install.html\n",
      "  from .autonotebook import tqdm as notebook_tqdm\n",
      "INFO:hyfi.utils.notebooks:Google Colab not detected.\n",
      "INFO:hyfi.utils.notebooks:Extension autotime not found. Install it first.\n",
      "INFO:hyfi.joblib.joblib:initialized batcher with <hyfi.joblib.batch.batcher.Batcher object at 0x7f3b064b85b0>\n",
      "INFO:hyfi.main.config:HyFi project [thematos] initialized\n"
     ]
    },
    {
     "name": "stdout",
     "output_type": "stream",
     "text": [
      "project_dir: /raid/cis/yjlee/workspace/projects/thematos\n",
      "project_workspace_dir: /raid/cis/yjlee/workspace/projects/thematos/workspace\n"
     ]
    }
   ],
   "source": [
    "from thematos import HyFI\n",
    "\n",
    "if HyFI.is_colab():\n",
    "    HyFI.mount_google_drive()\n",
    "\n",
    "project_dir = HyFI.DotEnvConfig().DOTENV_DIR\n",
    "\n",
    "h = HyFI.initialize(\n",
    "    project_name=\"thematos\",\n",
    "    project_root=project_dir,\n",
    "    logging_level=\"INFO\",\n",
    "    verbose=True,\n",
    ")\n",
    "\n",
    "print(\"project_dir:\", h.project.root_dir)\n",
    "print(\"project_workspace_dir:\", h.project.workspace_dir)"
   ]
  },
  {
   "cell_type": "code",
   "execution_count": 2,
   "metadata": {},
   "outputs": [
    {
     "name": "stderr",
     "output_type": "stream",
     "text": [
      "INFO:hyfi.task.batch:Initalized batch: corpus(3) in /raid/cis/yjlee/workspace/projects/thematos/workspace/topic/corpus\n",
      "INFO:hyfi.batch.batch:Setting seed to 3063806290\n",
      "INFO:hyfi.batch.batch:Init batch - Batch name: model, Batch num: 0\n",
      "INFO:hyfi.task.batch:Initalized batch: corpus(3) in /raid/cis/yjlee/workspace/projects/thematos/workspace/topic/corpus\n",
      "INFO:hyfi.batch.batch:Init batch - Batch name: model, Batch num: 11\n",
      "INFO:hyfi.task.batch:Initalized batch: model(11) in /raid/cis/yjlee/workspace/projects/thematos/workspace/topic/model\n"
     ]
    }
   ],
   "source": [
    "from thematos.models import LdaModel\n",
    "\n",
    "lda = LdaModel(verbose=True)\n",
    "lda.model_args.k = 10\n",
    "lda.train_args.iterations = 50\n"
   ]
  },
  {
   "cell_type": "code",
   "execution_count": 3,
   "metadata": {},
   "outputs": [
    {
     "name": "stderr",
     "output_type": "stream",
     "text": [
      "INFO:hyfi.task.batch:> Loading config for batch_name: model batch_num: 10\n",
      "INFO:hyfi.task.batch:Loading config from /raid/cis/yjlee/workspace/projects/thematos/workspace/topic/model/configs/model(10)_config.yaml\n",
      "INFO:hyfi.task.batch:Merging config with the loaded config\n",
      "INFO:hyfi.task.batch:Updating config with config_kwargs: {}\n",
      "INFO:hyfi.task.batch:Initalized batch: corpus(2) in /raid/cis/yjlee/workspace/projects/thematos/workspace/topic/corpus\n",
      "INFO:hyfi.task.batch:Initalized batch: model(10) in /raid/cis/yjlee/workspace/projects/thematos/workspace/topic/model\n",
      "INFO:hyfi.utils.iolibs:Processing [1] files from ['/raid/cis/yjlee/workspace/projects/thematos/workspace/topic/model/outputs/LDA_model(10)_k(10)-ll_per_word.csv']\n",
      "INFO:hyfi.utils.datasets.load:Loading data from /raid/cis/yjlee/workspace/projects/thematos/workspace/topic/model/outputs/LDA_model(10)_k(10)-ll_per_word.csv\n",
      "INFO:hyfi.utils.datasets.load: >> elapsed time to load data: 0:00:00.010197\n",
      "INFO:hyfi.utils.iolibs:Processing [1] files from ['/raid/cis/yjlee/workspace/projects/thematos/workspace/topic/model/outputs/LDA_model(10)_k(10)-doc_topic_dists.parquet']\n",
      "INFO:hyfi.utils.datasets.load:Loading data from /raid/cis/yjlee/workspace/projects/thematos/workspace/topic/model/outputs/LDA_model(10)_k(10)-doc_topic_dists.parquet\n",
      "INFO:hyfi.utils.datasets.load: >> elapsed time to load data: 0:00:00.018441\n",
      "INFO:hyfi.utils.iolibs:Processing [1] files from ['/raid/cis/yjlee/workspace/projects/thematos/workspace/topic/model/outputs/LDA_model(10)_k(10)-topic_term_dists.parquet']\n",
      "INFO:hyfi.utils.datasets.load:Loading data from /raid/cis/yjlee/workspace/projects/thematos/workspace/topic/model/outputs/LDA_model(10)_k(10)-topic_term_dists.parquet\n",
      "INFO:hyfi.utils.datasets.load: >> elapsed time to load data: 0:00:03.895681\n"
     ]
    }
   ],
   "source": [
    "# lda.train()\n",
    "lda.load(batch_num=10)"
   ]
  },
  {
   "cell_type": "code",
   "execution_count": 4,
   "metadata": {},
   "outputs": [],
   "source": [
    "lda.generate_wordclouds()"
   ]
  },
  {
   "cell_type": "code",
   "execution_count": null,
   "metadata": {},
   "outputs": [],
   "source": []
  }
 ],
 "metadata": {
  "colab": {
   "name": "corpus.ipynb",
   "provenance": []
  },
  "interpreter": {
   "hash": "f869af7787e6a1c49e09e367fc6e1b81d93d1c6583b43249c80edc047bd13cb2"
  },
  "kernelspec": {
   "display_name": "Python 3",
   "language": "python",
   "name": "python3"
  },
  "language_info": {
   "codemirror_mode": {
    "name": "ipython",
    "version": 3
   },
   "file_extension": ".py",
   "mimetype": "text/x-python",
   "name": "python",
   "nbconvert_exporter": "python",
   "pygments_lexer": "ipython3",
   "version": "3.8.10"
  },
  "widgets": {
   "application/vnd.jupyter.widget-state+json": {
    "state": {},
    "version_major": 2,
    "version_minor": 0
   }
  }
 },
 "nbformat": 4,
 "nbformat_minor": 1
}
