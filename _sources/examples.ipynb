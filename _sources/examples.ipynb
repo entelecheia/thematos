{
 "cells": [
  {
   "cell_type": "markdown",
   "id": "a2a0473e",
   "metadata": {},
   "source": [
    "# Examples\n",
    "\n",
    "This page contains a few examples of how you can use ThematOS package.\n",
    "\n",
    "## Installation\n",
    "\n",
    "You can install ThematOS using `pip`:"
   ]
  },
  {
   "cell_type": "code",
   "execution_count": 1,
   "id": "9e14e0a6",
   "metadata": {},
   "outputs": [
    {
     "name": "stdout",
     "output_type": "stream",
     "text": [
      "Requirement already satisfied: thematos in /opt/hostedtoolcache/Python/3.11.4/x64/lib/python3.11/site-packages (0.14.0)\r\n",
      "Requirement already satisfied: click<9.0.0,>=8.1.3 in /opt/hostedtoolcache/Python/3.11.4/x64/lib/python3.11/site-packages (from thematos) (8.1.6)\r\n",
      "Requirement already satisfied: hyfi<2.0.0,>=1.29.6 in /opt/hostedtoolcache/Python/3.11.4/x64/lib/python3.11/site-packages (from thematos) (1.29.6)\r\n",
      "Requirement already satisfied: lexikanon<0.7.0,>=0.6.2 in /opt/hostedtoolcache/Python/3.11.4/x64/lib/python3.11/site-packages (from thematos) (0.6.2)\r\n",
      "Requirement already satisfied: tomotopy<0.13.0,>=0.12.5 in /opt/hostedtoolcache/Python/3.11.4/x64/lib/python3.11/site-packages (from thematos) (0.12.5)\r\n",
      "Requirement already satisfied: wordcloud<2.0.0,>=1.9.2 in /opt/hostedtoolcache/Python/3.11.4/x64/lib/python3.11/site-packages (from thematos) (1.9.2)\r\n",
      "Requirement already satisfied: chardet<=5.2.0 in /opt/hostedtoolcache/Python/3.11.4/x64/lib/python3.11/site-packages (from hyfi<2.0.0,>=1.29.6->thematos) (5.2.0)\r\n",
      "Requirement already satisfied: colorama<0.5.0,>=0.4.3 in /opt/hostedtoolcache/Python/3.11.4/x64/lib/python3.11/site-packages (from hyfi<2.0.0,>=1.29.6->thematos) (0.4.6)\r\n",
      "Requirement already satisfied: datasets<=2.14.4,>=2.0.0 in /opt/hostedtoolcache/Python/3.11.4/x64/lib/python3.11/site-packages (from hyfi<2.0.0,>=1.29.6->thematos) (2.14.4)\r\n",
      "Requirement already satisfied: filelock<=3.12.2,>=3.4 in /opt/hostedtoolcache/Python/3.11.4/x64/lib/python3.11/site-packages (from hyfi<2.0.0,>=1.29.6->thematos) (3.12.2)\r\n",
      "Requirement already satisfied: gdown<=4.6.6 in /opt/hostedtoolcache/Python/3.11.4/x64/lib/python3.11/site-packages (from hyfi<2.0.0,>=1.29.6->thematos) (4.6.6)\r\n"
     ]
    },
    {
     "name": "stdout",
     "output_type": "stream",
     "text": [
      "Requirement already satisfied: huggingface-hub<=0.16.4,>=0.8.1 in /opt/hostedtoolcache/Python/3.11.4/x64/lib/python3.11/site-packages (from hyfi<2.0.0,>=1.29.6->thematos) (0.16.4)\r\n",
      "Requirement already satisfied: hydra-colorlog<2.0.0,>=1.2.0 in /opt/hostedtoolcache/Python/3.11.4/x64/lib/python3.11/site-packages (from hyfi<2.0.0,>=1.29.6->thematos) (1.2.0)\r\n",
      "Requirement already satisfied: hydra-core<2.0.0,>=1.3.2 in /opt/hostedtoolcache/Python/3.11.4/x64/lib/python3.11/site-packages (from hyfi<2.0.0,>=1.29.6->thematos) (1.3.2)\r\n",
      "Requirement already satisfied: joblib<=1.3.2,>=1.2.0 in /opt/hostedtoolcache/Python/3.11.4/x64/lib/python3.11/site-packages (from hyfi<2.0.0,>=1.29.6->thematos) (1.3.2)\r\n",
      "Requirement already satisfied: matplotlib<4.0.0,>=3.7.1 in /opt/hostedtoolcache/Python/3.11.4/x64/lib/python3.11/site-packages (from hyfi<2.0.0,>=1.29.6->thematos) (3.7.2)\r\n",
      "Requirement already satisfied: numpy<=1.25.2 in /opt/hostedtoolcache/Python/3.11.4/x64/lib/python3.11/site-packages (from hyfi<2.0.0,>=1.29.6->thematos) (1.25.2)\r\n",
      "Requirement already satisfied: pandas<=2.0.3,>=1.5.3 in /opt/hostedtoolcache/Python/3.11.4/x64/lib/python3.11/site-packages (from hyfi<2.0.0,>=1.29.6->thematos) (2.0.3)\r\n",
      "Requirement already satisfied: pathspec>=0.9.0 in /opt/hostedtoolcache/Python/3.11.4/x64/lib/python3.11/site-packages (from hyfi<2.0.0,>=1.29.6->thematos) (0.11.2)\r\n",
      "Requirement already satisfied: pyarrow<=12.0.1 in /opt/hostedtoolcache/Python/3.11.4/x64/lib/python3.11/site-packages (from hyfi<2.0.0,>=1.29.6->thematos) (12.0.1)\r\n",
      "Requirement already satisfied: pydantic<3.0.0,>=2.1.1 in /opt/hostedtoolcache/Python/3.11.4/x64/lib/python3.11/site-packages (from hyfi<2.0.0,>=1.29.6->thematos) (2.1.1)\r\n",
      "Requirement already satisfied: pydantic-settings<3.0.0,>=2.0.1 in /opt/hostedtoolcache/Python/3.11.4/x64/lib/python3.11/site-packages (from hyfi<2.0.0,>=1.29.6->thematos) (2.0.3)\r\n",
      "Requirement already satisfied: python-dotenv<2.0.0,>=1.0.0 in /opt/hostedtoolcache/Python/3.11.4/x64/lib/python3.11/site-packages (from hyfi<2.0.0,>=1.29.6->thematos) (1.0.0)\r\n",
      "Requirement already satisfied: requests<3.0.0,>=2.27.1 in /opt/hostedtoolcache/Python/3.11.4/x64/lib/python3.11/site-packages (from hyfi<2.0.0,>=1.29.6->thematos) (2.31.0)\r\n",
      "Requirement already satisfied: rich<14.0,>=12.1 in /opt/hostedtoolcache/Python/3.11.4/x64/lib/python3.11/site-packages (from hyfi<2.0.0,>=1.29.6->thematos) (13.5.2)\r\n",
      "Requirement already satisfied: scipy<2.0.0,>=1.10.1 in /opt/hostedtoolcache/Python/3.11.4/x64/lib/python3.11/site-packages (from hyfi<2.0.0,>=1.29.6->thematos) (1.11.1)\r\n",
      "Requirement already satisfied: tqdm<5.0.0,>=4.64.1 in /opt/hostedtoolcache/Python/3.11.4/x64/lib/python3.11/site-packages (from hyfi<2.0.0,>=1.29.6->thematos) (4.66.1)\r\n",
      "Requirement already satisfied: ekonlpy<3.0.0,>=2.0.2 in /opt/hostedtoolcache/Python/3.11.4/x64/lib/python3.11/site-packages (from lexikanon<0.7.0,>=0.6.2->thematos) (2.0.2)\r\n",
      "Requirement already satisfied: ftfy<7.0.0,>=6.1.1 in /opt/hostedtoolcache/Python/3.11.4/x64/lib/python3.11/site-packages (from lexikanon<0.7.0,>=0.6.2->thematos) (6.1.1)\r\n",
      "Requirement already satisfied: nltk<4.0.0,>=3.8.1 in /opt/hostedtoolcache/Python/3.11.4/x64/lib/python3.11/site-packages (from lexikanon<0.7.0,>=0.6.2->thematos) (3.8.1)\r\n"
     ]
    },
    {
     "name": "stdout",
     "output_type": "stream",
     "text": [
      "Requirement already satisfied: scikit-learn<2.0.0,>=1.3.0 in /opt/hostedtoolcache/Python/3.11.4/x64/lib/python3.11/site-packages (from lexikanon<0.7.0,>=0.6.2->thematos) (1.3.0)\r\n",
      "Requirement already satisfied: pillow in /opt/hostedtoolcache/Python/3.11.4/x64/lib/python3.11/site-packages (from wordcloud<2.0.0,>=1.9.2->thematos) (10.0.0)\r\n"
     ]
    },
    {
     "name": "stdout",
     "output_type": "stream",
     "text": [
      "Requirement already satisfied: dill<0.3.8,>=0.3.0 in /opt/hostedtoolcache/Python/3.11.4/x64/lib/python3.11/site-packages (from datasets<=2.14.4,>=2.0.0->hyfi<2.0.0,>=1.29.6->thematos) (0.3.7)\r\n",
      "Requirement already satisfied: xxhash in /opt/hostedtoolcache/Python/3.11.4/x64/lib/python3.11/site-packages (from datasets<=2.14.4,>=2.0.0->hyfi<2.0.0,>=1.29.6->thematos) (3.3.0)\r\n",
      "Requirement already satisfied: multiprocess in /opt/hostedtoolcache/Python/3.11.4/x64/lib/python3.11/site-packages (from datasets<=2.14.4,>=2.0.0->hyfi<2.0.0,>=1.29.6->thematos) (0.70.15)\r\n",
      "Requirement already satisfied: fsspec[http]>=2021.11.1 in /opt/hostedtoolcache/Python/3.11.4/x64/lib/python3.11/site-packages (from datasets<=2.14.4,>=2.0.0->hyfi<2.0.0,>=1.29.6->thematos) (2023.6.0)\r\n",
      "Requirement already satisfied: aiohttp in /opt/hostedtoolcache/Python/3.11.4/x64/lib/python3.11/site-packages (from datasets<=2.14.4,>=2.0.0->hyfi<2.0.0,>=1.29.6->thematos) (3.8.5)\r\n",
      "Requirement already satisfied: packaging in /opt/hostedtoolcache/Python/3.11.4/x64/lib/python3.11/site-packages (from datasets<=2.14.4,>=2.0.0->hyfi<2.0.0,>=1.29.6->thematos) (23.1)\r\n",
      "Requirement already satisfied: pyyaml>=5.1 in /opt/hostedtoolcache/Python/3.11.4/x64/lib/python3.11/site-packages (from datasets<=2.14.4,>=2.0.0->hyfi<2.0.0,>=1.29.6->thematos) (6.0.1)\r\n",
      "Requirement already satisfied: fugashi<2.0.0,>=1.2.1 in /opt/hostedtoolcache/Python/3.11.4/x64/lib/python3.11/site-packages (from ekonlpy<3.0.0,>=2.0.2->lexikanon<0.7.0,>=0.6.2->thematos) (1.2.1)\r\n",
      "Requirement already satisfied: mecab-ko-dic<2.0.0,>=1.0.0 in /opt/hostedtoolcache/Python/3.11.4/x64/lib/python3.11/site-packages (from ekonlpy<3.0.0,>=2.0.2->lexikanon<0.7.0,>=0.6.2->thematos) (1.0.0)\r\n"
     ]
    },
    {
     "name": "stdout",
     "output_type": "stream",
     "text": [
      "Requirement already satisfied: wcwidth>=0.2.5 in /opt/hostedtoolcache/Python/3.11.4/x64/lib/python3.11/site-packages (from ftfy<7.0.0,>=6.1.1->lexikanon<0.7.0,>=0.6.2->thematos) (0.2.6)\r\n",
      "Requirement already satisfied: six in /opt/hostedtoolcache/Python/3.11.4/x64/lib/python3.11/site-packages (from gdown<=4.6.6->hyfi<2.0.0,>=1.29.6->thematos) (1.16.0)\r\n",
      "Requirement already satisfied: beautifulsoup4 in /opt/hostedtoolcache/Python/3.11.4/x64/lib/python3.11/site-packages (from gdown<=4.6.6->hyfi<2.0.0,>=1.29.6->thematos) (4.12.2)\r\n"
     ]
    },
    {
     "name": "stdout",
     "output_type": "stream",
     "text": [
      "Requirement already satisfied: typing-extensions>=3.7.4.3 in /opt/hostedtoolcache/Python/3.11.4/x64/lib/python3.11/site-packages (from huggingface-hub<=0.16.4,>=0.8.1->hyfi<2.0.0,>=1.29.6->thematos) (4.7.1)\r\n",
      "Requirement already satisfied: colorlog in /opt/hostedtoolcache/Python/3.11.4/x64/lib/python3.11/site-packages (from hydra-colorlog<2.0.0,>=1.2.0->hyfi<2.0.0,>=1.29.6->thematos) (6.7.0)\r\n",
      "Requirement already satisfied: omegaconf<2.4,>=2.2 in /opt/hostedtoolcache/Python/3.11.4/x64/lib/python3.11/site-packages (from hydra-core<2.0.0,>=1.3.2->hyfi<2.0.0,>=1.29.6->thematos) (2.3.0)\r\n",
      "Requirement already satisfied: antlr4-python3-runtime==4.9.* in /opt/hostedtoolcache/Python/3.11.4/x64/lib/python3.11/site-packages (from hydra-core<2.0.0,>=1.3.2->hyfi<2.0.0,>=1.29.6->thematos) (4.9.3)\r\n"
     ]
    },
    {
     "name": "stdout",
     "output_type": "stream",
     "text": [
      "Requirement already satisfied: contourpy>=1.0.1 in /opt/hostedtoolcache/Python/3.11.4/x64/lib/python3.11/site-packages (from matplotlib<4.0.0,>=3.7.1->hyfi<2.0.0,>=1.29.6->thematos) (1.1.0)\r\n",
      "Requirement already satisfied: cycler>=0.10 in /opt/hostedtoolcache/Python/3.11.4/x64/lib/python3.11/site-packages (from matplotlib<4.0.0,>=3.7.1->hyfi<2.0.0,>=1.29.6->thematos) (0.11.0)\r\n",
      "Requirement already satisfied: fonttools>=4.22.0 in /opt/hostedtoolcache/Python/3.11.4/x64/lib/python3.11/site-packages (from matplotlib<4.0.0,>=3.7.1->hyfi<2.0.0,>=1.29.6->thematos) (4.42.0)\r\n",
      "Requirement already satisfied: kiwisolver>=1.0.1 in /opt/hostedtoolcache/Python/3.11.4/x64/lib/python3.11/site-packages (from matplotlib<4.0.0,>=3.7.1->hyfi<2.0.0,>=1.29.6->thematos) (1.4.4)\r\n",
      "Requirement already satisfied: pyparsing<3.1,>=2.3.1 in /opt/hostedtoolcache/Python/3.11.4/x64/lib/python3.11/site-packages (from matplotlib<4.0.0,>=3.7.1->hyfi<2.0.0,>=1.29.6->thematos) (3.0.9)\r\n",
      "Requirement already satisfied: python-dateutil>=2.7 in /opt/hostedtoolcache/Python/3.11.4/x64/lib/python3.11/site-packages (from matplotlib<4.0.0,>=3.7.1->hyfi<2.0.0,>=1.29.6->thematos) (2.8.2)\r\n",
      "Requirement already satisfied: regex>=2021.8.3 in /opt/hostedtoolcache/Python/3.11.4/x64/lib/python3.11/site-packages (from nltk<4.0.0,>=3.8.1->lexikanon<0.7.0,>=0.6.2->thematos) (2023.8.8)\r\n"
     ]
    },
    {
     "name": "stdout",
     "output_type": "stream",
     "text": [
      "Requirement already satisfied: pytz>=2020.1 in /opt/hostedtoolcache/Python/3.11.4/x64/lib/python3.11/site-packages (from pandas<=2.0.3,>=1.5.3->hyfi<2.0.0,>=1.29.6->thematos) (2023.3)\r\n",
      "Requirement already satisfied: tzdata>=2022.1 in /opt/hostedtoolcache/Python/3.11.4/x64/lib/python3.11/site-packages (from pandas<=2.0.3,>=1.5.3->hyfi<2.0.0,>=1.29.6->thematos) (2023.3)\r\n"
     ]
    },
    {
     "name": "stdout",
     "output_type": "stream",
     "text": [
      "Requirement already satisfied: annotated-types>=0.4.0 in /opt/hostedtoolcache/Python/3.11.4/x64/lib/python3.11/site-packages (from pydantic<3.0.0,>=2.1.1->hyfi<2.0.0,>=1.29.6->thematos) (0.5.0)\r\n",
      "Requirement already satisfied: pydantic-core==2.4.0 in /opt/hostedtoolcache/Python/3.11.4/x64/lib/python3.11/site-packages (from pydantic<3.0.0,>=2.1.1->hyfi<2.0.0,>=1.29.6->thematos) (2.4.0)\r\n"
     ]
    },
    {
     "name": "stdout",
     "output_type": "stream",
     "text": [
      "Requirement already satisfied: charset-normalizer<4,>=2 in /opt/hostedtoolcache/Python/3.11.4/x64/lib/python3.11/site-packages (from requests<3.0.0,>=2.27.1->hyfi<2.0.0,>=1.29.6->thematos) (3.2.0)\r\n",
      "Requirement already satisfied: idna<4,>=2.5 in /opt/hostedtoolcache/Python/3.11.4/x64/lib/python3.11/site-packages (from requests<3.0.0,>=2.27.1->hyfi<2.0.0,>=1.29.6->thematos) (3.4)\r\n",
      "Requirement already satisfied: urllib3<3,>=1.21.1 in /opt/hostedtoolcache/Python/3.11.4/x64/lib/python3.11/site-packages (from requests<3.0.0,>=2.27.1->hyfi<2.0.0,>=1.29.6->thematos) (2.0.4)\r\n",
      "Requirement already satisfied: certifi>=2017.4.17 in /opt/hostedtoolcache/Python/3.11.4/x64/lib/python3.11/site-packages (from requests<3.0.0,>=2.27.1->hyfi<2.0.0,>=1.29.6->thematos) (2023.7.22)\r\n",
      "Requirement already satisfied: markdown-it-py>=2.2.0 in /opt/hostedtoolcache/Python/3.11.4/x64/lib/python3.11/site-packages (from rich<14.0,>=12.1->hyfi<2.0.0,>=1.29.6->thematos) (2.2.0)\r\n",
      "Requirement already satisfied: pygments<3.0.0,>=2.13.0 in /opt/hostedtoolcache/Python/3.11.4/x64/lib/python3.11/site-packages (from rich<14.0,>=12.1->hyfi<2.0.0,>=1.29.6->thematos) (2.16.1)\r\n"
     ]
    },
    {
     "name": "stdout",
     "output_type": "stream",
     "text": [
      "Requirement already satisfied: threadpoolctl>=2.0.0 in /opt/hostedtoolcache/Python/3.11.4/x64/lib/python3.11/site-packages (from scikit-learn<2.0.0,>=1.3.0->lexikanon<0.7.0,>=0.6.2->thematos) (3.2.0)\r\n"
     ]
    },
    {
     "name": "stdout",
     "output_type": "stream",
     "text": [
      "Requirement already satisfied: attrs>=17.3.0 in /opt/hostedtoolcache/Python/3.11.4/x64/lib/python3.11/site-packages (from aiohttp->datasets<=2.14.4,>=2.0.0->hyfi<2.0.0,>=1.29.6->thematos) (23.1.0)\r\n",
      "Requirement already satisfied: multidict<7.0,>=4.5 in /opt/hostedtoolcache/Python/3.11.4/x64/lib/python3.11/site-packages (from aiohttp->datasets<=2.14.4,>=2.0.0->hyfi<2.0.0,>=1.29.6->thematos) (6.0.4)\r\n",
      "Requirement already satisfied: async-timeout<5.0,>=4.0.0a3 in /opt/hostedtoolcache/Python/3.11.4/x64/lib/python3.11/site-packages (from aiohttp->datasets<=2.14.4,>=2.0.0->hyfi<2.0.0,>=1.29.6->thematos) (4.0.3)\r\n",
      "Requirement already satisfied: yarl<2.0,>=1.0 in /opt/hostedtoolcache/Python/3.11.4/x64/lib/python3.11/site-packages (from aiohttp->datasets<=2.14.4,>=2.0.0->hyfi<2.0.0,>=1.29.6->thematos) (1.9.2)\r\n",
      "Requirement already satisfied: frozenlist>=1.1.1 in /opt/hostedtoolcache/Python/3.11.4/x64/lib/python3.11/site-packages (from aiohttp->datasets<=2.14.4,>=2.0.0->hyfi<2.0.0,>=1.29.6->thematos) (1.4.0)\r\n",
      "Requirement already satisfied: aiosignal>=1.1.2 in /opt/hostedtoolcache/Python/3.11.4/x64/lib/python3.11/site-packages (from aiohttp->datasets<=2.14.4,>=2.0.0->hyfi<2.0.0,>=1.29.6->thematos) (1.3.1)\r\n"
     ]
    },
    {
     "name": "stdout",
     "output_type": "stream",
     "text": [
      "Requirement already satisfied: mdurl~=0.1 in /opt/hostedtoolcache/Python/3.11.4/x64/lib/python3.11/site-packages (from markdown-it-py>=2.2.0->rich<14.0,>=12.1->hyfi<2.0.0,>=1.29.6->thematos) (0.1.2)\r\n"
     ]
    },
    {
     "name": "stdout",
     "output_type": "stream",
     "text": [
      "Requirement already satisfied: soupsieve>1.2 in /opt/hostedtoolcache/Python/3.11.4/x64/lib/python3.11/site-packages (from beautifulsoup4->gdown<=4.6.6->hyfi<2.0.0,>=1.29.6->thematos) (2.4.1)\r\n"
     ]
    },
    {
     "name": "stdout",
     "output_type": "stream",
     "text": [
      "Requirement already satisfied: PySocks!=1.5.7,>=1.5.6 in /opt/hostedtoolcache/Python/3.11.4/x64/lib/python3.11/site-packages (from requests<3.0.0,>=2.27.1->hyfi<2.0.0,>=1.29.6->thematos) (1.7.1)\r\n"
     ]
    },
    {
     "name": "stdout",
     "output_type": "stream",
     "text": [
      "Note: you may need to restart the kernel to use updated packages.\n"
     ]
    }
   ],
   "source": [
    "pip install thematos"
   ]
  },
  {
   "cell_type": "markdown",
   "id": "0a21592d",
   "metadata": {},
   "source": [
    "## Usage\n",
    "\n",
    "```python\n",
    "from thematos import get_version\n",
    "\n",
    "print(get_version())\n",
    "```"
   ]
  }
 ],
 "metadata": {
  "jupytext": {
   "cell_metadata_filter": "-all",
   "formats": "md:myst",
   "text_representation": {
    "extension": ".md",
    "format_name": "myst",
    "format_version": 0.13,
    "jupytext_version": "1.11.5"
   }
  },
  "kernelspec": {
   "display_name": "Python 3",
   "language": "python",
   "name": "python3"
  },
  "language_info": {
   "codemirror_mode": {
    "name": "ipython",
    "version": 3
   },
   "file_extension": ".py",
   "mimetype": "text/x-python",
   "name": "python",
   "nbconvert_exporter": "python",
   "pygments_lexer": "ipython3",
   "version": "3.11.4"
  },
  "source_map": [
   14,
   24,
   26
  ]
 },
 "nbformat": 4,
 "nbformat_minor": 5
}